{
 "cells": [
  {
   "cell_type": "markdown",
   "id": "4f2a159e-8596-479d-830c-4c4e8a93bda9",
   "metadata": {
    "editable": false,
    "slideshow": {
     "slide_type": ""
    },
    "tags": []
   },
   "source": [
    "# The Quantum Shapes of Molecules\n",
    "\n",
    "## Getting Started\n",
    "\n",
    "1. Look for the \"fast-forward\" button (two triangles) at top of this notebook, left of the word \"Markdown\" - it's a button to \"Restart the kernel and run all cells\".\n",
    "2. Click on this \"fast-forward\" button, and then click the big red \"Restart\" button that pops up.\n",
    "3. Now read the information below - by the time you are done, the notebook should be ready to go!\n",
    "\n",
    "## Welcome to quantum chemistry!\n",
    "\n",
    "\"Quantum chemistry\" applies quantum physics to the electrons inside a molecule to try and predict how these molecules behave. Quantum chemists write powerful software packages so that computers can do all of these complicated calculations - and this workbook will guide you in running your very own quantum chemistry calculations! \n",
    "\n",
    "As you progress through this notebook you will see some \"code\" cells in grey. Don't worry about those (they're what's running the calculations!)\n",
    "\n"
   ]
  },
  {
   "cell_type": "code",
   "execution_count": 1,
   "id": "350f448e-caf7-46fe-b5a7-36e92842beb3",
   "metadata": {
    "editable": false,
    "jupyter": {
     "source_hidden": true
    },
    "slideshow": {
     "slide_type": ""
    },
    "tags": [
     "hide-cell"
    ]
   },
   "outputs": [],
   "source": [
    "from helpers import Psikit, Step1, Step2, Step3, Step4\n",
    "pk = Psikit();\n",
    "display(Step1())\n",
    "pk.widget_input_smiles()"
   ]
  },
  {
   "cell_type": "code",
   "execution_count": 3,
   "id": "f47eb4a7-db17-4616-95e1-e1443ab157b5",
   "metadata": {
    "editable": false,
    "jupyter": {
     "source_hidden": true
    }
   },
   "outputs": [],
   "source": [
    "display(Step2())\n",
    "pk.widget_run_quantum_optimization()\n",
    "pk.widget_initial_view()"
   ]
  },
  {
   "cell_type": "code",
   "execution_count": 4,
   "id": "2d66922b-77a2-4cd0-bb93-e8e44f800d78",
   "metadata": {
    "editable": false,
    "jupyter": {
     "source_hidden": true
    },
    "slideshow": {
     "slide_type": ""
    },
    "tags": []
   },
   "outputs": [],
   "source": [
    "display(Step3())\n",
    "pk.widget_find_molecular_vibrations()\n",
    "pk.widget_show_normal_modes()"
   ]
  },
  {
   "cell_type": "code",
   "id": "bb3433ee-87eb-45a7-aed9-21e3100c4d07",
   "metadata": {
    "editable": false,
    "jupyter": {
     "source_hidden": true
    }
   },
   "outputs": [],
   "source": [
    "Step4()"
   ]
  }
 ],
 "metadata": {
  "kernelspec": {
   "display_name": "Python 3 (ipykernel)",
   "language": "python",
   "name": "python3"
  },
  "language_info": {
   "codemirror_mode": {
    "name": "ipython",
    "version": 3
   },
   "file_extension": ".py",
   "mimetype": "text/x-python",
   "name": "python",
   "nbconvert_exporter": "python",
   "pygments_lexer": "ipython3",
   "version": "3.10.12"
  }
 },
 "nbformat": 4,
 "nbformat_minor": 5
}
