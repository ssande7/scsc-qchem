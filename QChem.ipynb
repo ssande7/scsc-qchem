{
 "cells": [
  {
   "cell_type": "markdown",
   "id": "4f2a159e-8596-479d-830c-4c4e8a93bda9",
   "metadata": {
    "editable": false,
    "slideshow": {
     "slide_type": ""
    },
    "tags": []
   },
   "source": [
    "`````{note} The Quantum Shapes of Molecules\n",
    "````{tab-set}\n",
    "```{tab-item} Instructions: Preparing the notebook\n",
    "1. Look for the \"fast-forward\" button (two triangles) on top of this notebook - it's a button to \"Restart the kernel and run all cells\".\n",
    "2. Click on this \"fast-forward\" button, and then click the big red \"Restart\" button that pops up.\n",
    "3. Now read the information on the next tab - by the time you are done, the notebook should be ready to go!\n",
    "```\n",
    "\n",
    "```{tab-item} Information: Welcome to quantum chemistry!\n",
    "\"Quantum chemistry\" applies quantum physics to the electrons inside a molecule to try and predict how these molecules behave. Quantum chemists write powerful software packages so that computers can do all of these complicated calculations - and this workbook will guide you in running your very own quantum chemistry calculations! \n",
    "\n",
    "As you progress through this notebook you will see some \"code\" cells in grey. Don't worry about those (they're what's running the calculations!)\n",
    "```\n",
    "````\n",
    "`````"
   ]
  },
  {
   "cell_type": "code",
   "execution_count": 1,
   "id": "350f448e-caf7-46fe-b5a7-36e92842beb3",
   "metadata": {
    "editable": false,
    "jupyter": {
     "source_hidden": true
    },
    "slideshow": {
     "slide_type": ""
    },
    "tags": [
     "hide-cell"
    ]
   },
   "outputs": [],
   "source": [
    "from helpers import Psikit"
   ]
  },
  {
   "cell_type": "markdown",
   "id": "572ebe52-f7dd-46c3-8ee0-031ad33d26ea",
   "metadata": {
    "editable": false,
    "slideshow": {
     "slide_type": ""
    },
    "tags": []
   },
   "source": [
    "`````{note} Step 1: Finding a SMILES code and loading it in\n",
    "````{tab-set} \n",
    "```{tab-item} Instructions: Loading a molecule\n",
    "1. To run the calculation, we first need to tell the quantum chemistry software which molecule to look at. We can do this with a SMILES code, which we will get from the table in the next tab, or from another website.\n",
    "2. For some common molecules, you can copy the this from the table in the \"SMILES Codes\" tab of this panel and paste it in the box below.\n",
    "3. Click \"Load Molecule\" to load in the SMILES code and check that it's correct\n",
    "```\n",
    "\n",
    "```{tab-item} Information: SMILES Codes\n",
    "\"SMILES\" stands for the **simplified molecular-input line-entry system**, and is very useful for recording molecules in a standard format that simple computer programs can read - like this notebook!\n",
    "You can try looking it up on [Wikipedia](https://en.wikipedia.org/wiki/Simplified_molecular-input_line-entry_system) and writing it by hand!\n",
    "The benefit of SMILES codes over regular chemical formulas is that they encode bonds between the atoms so there's no need to guess.\n",
    "```\n",
    "\n",
    "```{tab-item} Some molecules to try\n",
    "|molecule|SMILES|\n",
    "|-|-|\n",
    "|chloroform\t|`ClC(Cl)Cl`|\n",
    "|methane     |    `C`|\n",
    "|dichloromethane |`ClCCl`|\n",
    "|acetonitrile   | `CC#N`|\n",
    "|dimethylsulfoxide| `CS(=O)C`|\n",
    "|dimethylformamide| `CN(C)C=O`|\n",
    "|benzene  |`C1=CC=CC=C1`|\n",
    "|pyridine| `C1=CC=NC=C1`|\n",
    "|phenol\t| `C1=CC=C(C=C1)O`|\n",
    "|aniline|  `C1=CC=C(C=C1)N`|\n",
    "```\n",
    "\n",
    "```{tab-item} Building a Chloroform Molecule in Molview\n",
    "1. Use \"Clear all\" to start again!\n",
    "2. The _right sidebar_ has a list of elements to choose from. \n",
    "    * Click on \"C\" (carbon) at the top right.\n",
    "    * Now click anywhere in the white area.\n",
    "    * This creates a new carbon atom. When you hover your mouse over the carbon atom, it will be highlighted in green.\n",
    "3. The _left sidebar_ has a list of common chemical bonds. \n",
    "   * Click on the line (single bond) at the top left.\n",
    "   * Now hover on the carbon atom and click _three times_. This creates three single bonds joined to the carbon atom.\n",
    "4. Lastly, click on the \"Cl\" (chlorine) atom on the right and then click on the ends of the bonds to change them to Cl atoms. \n",
    "```\n",
    "\n",
    "\n",
    "````\n",
    "\n",
    "`````"
   ]
  },
  {
   "cell_type": "code",
   "execution_count": 2,
   "id": "6eba3990-f01d-4897-8afd-5e2788575980",
   "metadata": {
    "editable": false,
    "jupyter": {
     "source_hidden": true
    },
    "scrolled": true,
    "slideshow": {
     "slide_type": ""
    },
    "tags": []
   },
   "outputs": [
    {
     "data": {
      "application/vnd.jupyter.widget-view+json": {
       "model_id": "222d0e2e9b684de4979070da6bcea1f8",
       "version_major": 2,
       "version_minor": 0
      },
      "text/plain": [
       "interactive(children=(Text(value='ClC(Cl)Cl', continuous_update=False, description='InputSMILES'), Button(desc…"
      ]
     },
     "execution_count": 2,
     "metadata": {},
     "output_type": "execute_result"
    }
   ],
   "source": [
    "pk = Psikit();\n",
    "pk.widget_input_smiles()"
   ]
  },
  {
   "cell_type": "markdown",
   "id": "89370730-ab95-4233-ba21-da82f6e3ebd2",
   "metadata": {
    "editable": false,
    "slideshow": {
     "slide_type": ""
    },
    "tags": []
   },
   "source": [
    "`````{note} Step 2: Running quantum geometry calculations\n",
    "````{tab-set} \n",
    "```{tab-item} Instructions: Click the buttons!\n",
    "1. Underneath this box, click the \"Run Quantum Optimization\" button. This will take a little time, and then print out when it's done.\n",
    "2. Once the calculation is done, click the \"Show Minimized State\"  button to see the molecule in 3D!\n",
    "```\n",
    "```{tab-item} Information: Energy Minimization and Molecular Vibration Searches\n",
    "This notebook runs through two calculations. The first is an _energy minimization_ (also called geometry optimization), where the underlying program adjusts the coordinates of individual atoms, and then calculates the total energy the molecule would have in that state. These calculations are repeated until a state is found at which the molecule has minimum energy - like a ball rolling down to the bottom of a bowl, this will be the most stable state for the molecule.\n",
    "\n",
    "The next calculation is a _vibrational analysis_. The program adjusts the atoms' coordinates again - but instead of finding the minimum energy, it records how the energy changes with the atoms' movement, and separates this into molecular vibrations - like a ball now rattling around near the bottom of a bowl. A molecule's vibrations can be measured experimentally by seeing which light frequencies are best absorbed by the molecule, and they're also important for simulating the molecule later on!\n",
    "```\n",
    "````\n",
    "`````\n",
    "\n"
   ]
  },
  {
   "cell_type": "code",
   "execution_count": 3,
   "id": "f47eb4a7-db17-4616-95e1-e1443ab157b5",
   "metadata": {
    "editable": false,
    "jupyter": {
     "source_hidden": true
    }
   },
   "outputs": [
    {
     "data": {
      "application/vnd.jupyter.widget-view+json": {
       "model_id": "e07747531e284498a93324975e2b27c6",
       "version_major": 2,
       "version_minor": 0
      },
      "text/plain": [
       "Button(description='Run Quantum Optimization', layout=Layout(height='auto', width='200px'), style=ButtonStyle(…"
      ]
     },
     "metadata": {},
     "output_type": "display_data"
    },
    {
     "data": {
      "application/vnd.jupyter.widget-view+json": {
       "model_id": "c7b0c6a77bf143d5887fcaec9ff7860e",
       "version_major": 2,
       "version_minor": 0
      },
      "text/plain": [
       "Output()"
      ]
     },
     "metadata": {},
     "output_type": "display_data"
    },
    {
     "data": {
      "application/vnd.jupyter.widget-view+json": {
       "model_id": "8d5cd6e5539446808a3124fd2e247672",
       "version_major": 2,
       "version_minor": 0
      },
      "text/plain": [
       "Button(description='Find Molecular Vibrations', layout=Layout(height='auto', width='200px'), style=ButtonStyle…"
      ]
     },
     "metadata": {},
     "output_type": "display_data"
    },
    {
     "data": {
      "application/vnd.jupyter.widget-view+json": {
       "model_id": "057e024dc4994735a05d018b2f38e0bd",
       "version_major": 2,
       "version_minor": 0
      },
      "text/plain": [
       "Output()"
      ]
     },
     "metadata": {},
     "output_type": "display_data"
    }
   ],
   "source": [
    "pk.widget_run_quantum_optimization()\n",
    "pk.widget_initial_view()"
   ]
  },
  {
   "cell_type": "markdown",
   "id": "5dc71f17-118c-4c9c-b6c0-cb22897787f6",
   "metadata": {
    "editable": false
   },
   "source": [
    "`````{note} Step 3: Calculating molecular vibrations\n",
    "````{tab-set} \n",
    "```{tab-item} Instructions: Looking at Molecular Vibrations\n",
    "1. _This next step may take up to 20 minutes for molecules with more than twelve atoms_: click the \"Find Molecular Vibrations\" button below.\n",
    "2. This will start the quantum calculations. While you wait for results, you can do the next section (\"Measure angles and distances in Molview\").\n",
    "3. Now click the \"Show Vibrations\" button. You will see a list of vibration frequencies. Selecting a frequency will show which atoms in the molecule vibrate at that frequency. \n",
    "   * Is there a pattern to which atoms vibrate at lower frequencies (smaller numbers), and which atoms vibrate at higher frequencies?\n",
    "   * The \"THz\" unit is 1 _terahertz_, or a trillion vibrations per second!\n",
    "```\n",
    "```{tab-item} Information: Vibrations and Spectroscopy\n",
    "In gases, molecules only vibrate at certain frequencies (as your quantum calculation shows). This means they also only absorb light at certain frequencies, or wavelengths. The frequencies you have calculated will fall between 1 and 400 THz, which falls under _infrared radiation_. Infrared radiation can't be seen by human eyes, but we can feel it as heat (such as from a barbecue grill!).\n",
    "\n",
    "The Earth's atmosphere stays warm (and is getting warmer) because gases in the atmosphere absorb infrared radiation. By measuring which wavelengths different molecules absorb, scientists can also get information about how long bonds are in molecules, giving more clues about their structure. Finally, knowing how molecules vibrate is important for simulating them - like you're going to do later today!\n",
    "```\n",
    "````\n",
    "`````"
   ]
  },
  {
   "cell_type": "code",
   "execution_count": 4,
   "id": "2d66922b-77a2-4cd0-bb93-e8e44f800d78",
   "metadata": {
    "editable": false,
    "jupyter": {
     "source_hidden": true
    },
    "slideshow": {
     "slide_type": ""
    },
    "tags": []
   },
   "outputs": [
    {
     "data": {
      "application/vnd.jupyter.widget-view+json": {
       "model_id": "f2de393452ba4ec3ba10eaa9b5003225",
       "version_major": 2,
       "version_minor": 0
      },
      "text/plain": [
       "Button(description='Show Minimized State', layout=Layout(height='auto', width='200px'), style=ButtonStyle())"
      ]
     },
     "metadata": {},
     "output_type": "display_data"
    },
    {
     "data": {
      "application/vnd.jupyter.widget-view+json": {
       "model_id": "fce2e60682e842489316c01be6fdc207",
       "version_major": 2,
       "version_minor": 0
      },
      "text/plain": [
       "Output()"
      ]
     },
     "metadata": {},
     "output_type": "display_data"
    },
    {
     "data": {
      "application/vnd.jupyter.widget-view+json": {
       "model_id": "03cbdd7014324539a62eac39d6ba894c",
       "version_major": 2,
       "version_minor": 0
      },
      "text/plain": [
       "Button(description='Show Vibrations', layout=Layout(height='auto', width='200px'), style=ButtonStyle())"
      ]
     },
     "metadata": {},
     "output_type": "display_data"
    },
    {
     "data": {
      "application/vnd.jupyter.widget-view+json": {
       "model_id": "1e0bcc76496d448588b4f4a122d97a1c",
       "version_major": 2,
       "version_minor": 0
      },
      "text/plain": [
       "Output()"
      ]
     },
     "metadata": {},
     "output_type": "display_data"
    }
   ],
   "source": [
    "pk.widget_find_molecular_vibrations()\n",
    "pk.widget_show_normal_modes()"
   ]
  },
  {
   "cell_type": "markdown",
   "id": "bb3433ee-87eb-45a7-aed9-21e3100c4d07",
   "metadata": {
    "editable": false
   },
   "source": [
    "`````{note} Step 4: Other molecules, and measuring angles and distances in Molview\n",
    "````{tab-set} \n",
    "```{tab-item} Instructions: The Molview molecular editor\n",
    "For any molecule you can think of, we can get a SMILES code from [Molview](https://molview.org/) by drawing the Lewis structure there:\n",
    "1. Click on this [Molview link](https://molview.org/), and the website should open in a separate tab.\n",
    "2. In Molview, click on the \"Clear all\" button (with a _rubbish bin_ logo) to clear the screen ready for your own molecule!\n",
    "   * The _white_ area on the left will be cleared out. Don't worry about the _black_ area on the right with a 3D molecular model - we will generate a new 3D model soon.\n",
    "3. Now try building a chloroform molecule in the white area. If you get stuck, look at the \"Building a Chloroform Molecule\" tab in this section of the notebook.\n",
    "4. Once you have built the molecule, here's how you get the SMILES code:\n",
    "   1. Look for the \"Tools\" dropdown menu in Molview, and then click on the \"Information Card\" in the middle of the menu.\n",
    "   2. Look for an entry called \"Canonical SMILES\". You will see a series of upper-case letters, brackets, and equal-signs. That's the SMILES code! \n",
    "   3. Copy it into the \"InputSMILES\" box in this notebook below, then click the \"Load Molecule\" button and check that the same molecule is loaded into the notebook.\n",
    "   4. Now we can do some more accurate calculations on that molecule than what is possible with Molview.\n",
    "\n",
    "_Hint: If you don't know the Lewis structure for the molecule you're interested in, try looking it up online._\n",
    "```\n",
    "```{tab-item} Instructions: Molview Measurements\n",
    "While you're waiting for the quantum calculations to run, you can also use Molview to measure approximate bond lengths and angles:\n",
    "   1. Look for the \"2D to 3D\" button on the top bar. Click it to create a 3D representation of your molecule!\n",
    "   2. Now look for the \"Jmol\" menu on the top bar. When you open the menu, you will see three options at the bottom under \"Measurement\": Distance, Angle and Torsion.\n",
    "   3. Measure different bond lengths and angles in your molecule (see the \"Bond Length\" and \"Angle\" tabs for detailed instructions). Are each of the bond lengths the same, or different? Are each of the angles the same, or different? How do the measurements compare to your quantum results? Try to make sense of what you see.\n",
    "   4. You can also check the electron density around your molecule by clicking \"Jmol\" -> \"MEP Surface Lucent\". This can be handy for figuring out whether your molecule is polar!\n",
    "```\n",
    "```{tab-item} Bond Length\n",
    "1. In the \"Jmol\" menu, click the \"Distance\" option.\n",
    "2. Now click on one of the atoms in the _3D_ view of the molecule. When you move the mouse away, you should now see a dotted line following your mouse position.\n",
    "3. Click on another atom. Now Molview will show the distance between the two chosen atoms (which is the bond length, if those atoms share a bond). The letters \"nm\" stand for _nanometer_, or one billionth of a meter.\n",
    "4. To remove all the numbers being shown, use the \"Clear\" button in the \"Jmol\" menu.\n",
    "```\n",
    "```{tab-item} Angle\n",
    "1. In the \"Jmol\" menu, click the \"Angle\" option.\n",
    "2. Now click on one of the atoms in the _3D_ view of the molecule. When you move the mouse away, you should now see a dotted line following your mouse position.\n",
    "3. Click on another two atoms. Now Molview will show the angle formed between the three chosen atoms, in degrees.\n",
    "4. To remove all the numbers being shown, click again on the \"2D to 3D\" button you used earlier.\n",
    "```\n",
    "```{tab-item} Information: Bonds, Angles and Torsions\n",
    "A molecule's geometry can be described in terms of how long bonds are between atoms, and what angles those bonds make to each other. (A _torsion_ is the angle formed between _four_ atoms, which changes when one pair twists against the second pair.) This lets computer programs predict how molecules will move by treating them as little balls and sticks!\n",
    "\n",
    "The atoms between bonds are too small to see directly -- so how do scientists know what shapes molecules have? One of the most important ways is through _X-ray diffraction_. In a solid crystal, molecules are arranged in a regular order, and strong X-ray beams can reveal the spacings between different atoms.\n",
    "\n",
    "A famous example of this was when Rosalind Franklin produced the first X-ray diffraction pictures of DNA crystals in the 1950s. Her data was necessary for James Watson, Francis Crick and Maurice Wilkins to piece together the exact arrangement of atoms in the DNA double helix, for which they won the Nobel Prize in 1962. \n",
    "```\n",
    "````\n",
    "`````"
   ]
  }
 ],
 "metadata": {
  "kernelspec": {
   "display_name": "Python 3 (ipykernel)",
   "language": "python",
   "name": "python3"
  },
  "language_info": {
   "codemirror_mode": {
    "name": "ipython",
    "version": 3
   },
   "file_extension": ".py",
   "mimetype": "text/x-python",
   "name": "python",
   "nbconvert_exporter": "python",
   "pygments_lexer": "ipython3",
   "version": "3.10.12"
  }
 },
 "nbformat": 4,
 "nbformat_minor": 5
}
